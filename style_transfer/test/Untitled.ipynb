{
 "cells": [
  {
   "cell_type": "code",
   "execution_count": 1,
   "id": "6da3dc4c",
   "metadata": {},
   "outputs": [],
   "source": [
    "from framework import Stylization\n",
    "import os\n",
    "import cv2"
   ]
  },
  {
   "cell_type": "code",
   "execution_count": 2,
   "id": "9781b1fa",
   "metadata": {},
   "outputs": [
    {
     "name": "stdout",
     "output_type": "stream",
     "text": [
      "Opened style image \"mosaic_2.jpg\"\n"
     ]
    }
   ],
   "source": [
    "style_img = \"../inputs/styles/mosaic_2.jpg\"\n",
    "checkpoint_path = \"./Model/style_net-TIP-final.pth\"\n",
    "cuda = \"cuda\"\n",
    "use_Global = False\n",
    "\n",
    "style = cv2.imread(style_img)\n",
    "style_fname = os.path.split(style_img)[1]\n",
    "print('Opened style image \"{}\"'.format(style_fname))\n",
    "\n",
    "framework = Stylization(checkpoint_path, cuda, use_Global)\n",
    "framework.prepare_style(style)"
   ]
  },
  {
   "cell_type": "code",
   "execution_count": null,
   "id": "621a3789",
   "metadata": {},
   "outputs": [],
   "source": []
  }
 ],
 "metadata": {
  "kernelspec": {
   "display_name": "Python 3 (ipykernel)",
   "language": "python",
   "name": "python3"
  },
  "language_info": {
   "codemirror_mode": {
    "name": "ipython",
    "version": 3
   },
   "file_extension": ".py",
   "mimetype": "text/x-python",
   "name": "python",
   "nbconvert_exporter": "python",
   "pygments_lexer": "ipython3",
   "version": "3.8.12"
  }
 },
 "nbformat": 4,
 "nbformat_minor": 5
}
